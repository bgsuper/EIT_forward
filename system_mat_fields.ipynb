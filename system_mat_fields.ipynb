{
 "cells": [
  {
   "cell_type": "code",
   "execution_count": 241,
   "metadata": {
    "collapsed": true
   },
   "outputs": [],
   "source": [
    "import utils.load_mat_customized as lm\n",
    "import numpy as np\n",
    "from itertools import permutations\n",
    "import time\n",
    "from scipy.special import binom, comb\n",
    "import scipy.sparse.linalg as lig\n",
    "from scipy.linalg import sqrtm\n",
    "from numpy.linalg import inv, det\n",
    "import tensorflow as tf\n",
    "import matplotlib.pylab as plt\n",
    "import collections\n"
   ]
  },
  {
   "cell_type": "code",
   "execution_count": 9,
   "metadata": {
    "collapsed": true
   },
   "outputs": [],
   "source": [
    "\n",
    "data = lm.loadmat('./data/simple_circle_data_background_nodal')\n",
    "\n",
    "img = data['img']\n",
    "fwd_model = img['fwd_model']\n",
    "impeds = data['impeds']"
   ]
  },
  {
   "cell_type": "code",
   "execution_count": 10,
   "metadata": {
    "collapsed": true
   },
   "outputs": [],
   "source": [
    "# DONE!\n",
    "def find_boundary(simp, dim):\n",
    "    localface = np.array([[1,2], [1,3],[2, 3]]).T\n",
    "    srf_local = simp[:, (localface.T -1)]\n",
    "    srf_local = np.reshape(srf_local.T, [dim, -1])  # dim X 3*E\n",
    "    srf_local = np.sort(srf_local, axis=0).T\n",
    "    sort_srl,sort_idx = sortrows( srf_local );\n",
    "    \n",
    "    # Find the ones that are the same\n",
    "    first_ones = sort_srl[:-1, :]\n",
    "    next_ones = sort_srl[1:, :]\n",
    "    same_srl = np.where(np.all(first_ones==next_ones, 1))[0]\n",
    "    \n",
    "    # Assume they are all different. then find the same ones\n",
    "    diff_srl = np.ones((srf_local.shape[0], ), dtype=bool)\n",
    "    diff_srl[same_srl] = 0\n",
    "    diff_srl[same_srl+1] = 0\n",
    "    \n",
    "    srf = sort_srl[diff_srl]\n",
    "    idx = sort_idx[diff_srl]\n",
    "    idx = np.ceil(idx/(dim+1))\n",
    "    return srf, idx\n",
    "\n",
    "def sort_boundary(bdy):\n",
    "    np.sort(bdy, axis=1)\n",
    "    np.lexsort(bdy)\n",
    "    \n",
    "def sortrows(srf_local):\n",
    "    sort_idx= np.lexsort(srf_local.T[::-1])\n",
    "    sort_srl=(srf_local.T)[:, sort_idx]\n",
    "    sort_srl = sort_srl.T\n",
    "    return sort_srl, sort_idx\n"
   ]
  },
  {
   "cell_type": "code",
   "execution_count": 393,
   "metadata": {},
   "outputs": [],
   "source": [
    "# DONE\n",
    "def find_electrode_bdy(bdy, vtx, elec_nodes):\n",
    "    bdy_idx, point = find_bdy_idx(bdy, elec_nodes)\n",
    "    l_bdy_idx = len(bdy_idx[0])\n",
    "    l_point = len(point)\n",
    "    \n",
    "    if l_bdy_idx > 0 and l_point==0:\n",
    "        bdy_area = np.zeros((1, l_bdy_idx))\n",
    "        for i in range(l_bdy_idx):\n",
    "            bdy_nodes = bdy[bdy_idx[0][i],:]\n",
    "            bdy_area[0, i] = tria_area(vtx[bdy_nodes, :])\n",
    "    elif l_bdy_idx==0 and l_point>0:\n",
    "        dims = bdy.shape[1]\n",
    "        bdy_area = np.zeros((1, l_point))\n",
    "        for i in range(l_point):\n",
    "            ff = np.where(np.any(bdy==point[i], axis=1))\n",
    "            this_area=0\n",
    "            for ffp in ff:\n",
    "                xyz=vtx[bdy[ffp,:],:]\n",
    "                this_area= this_area+tria_area[xyz]\n",
    "            bdy_area[0, i]= bdy_area[i] + this_area/dims;\n",
    "    else:\n",
    "        print('can`t model this electrode, with {} CEM and {} point'.format(l_bdy_idx, l_point ))\n",
    "    return bdy_idx, bdy_area\n",
    "\n",
    "def find_bdy_idx(bdy, elec_nodes):\n",
    "    bdy_els = np.zeros((bdy.shape[0], ))\n",
    "    elec_nodes = np.unique(elec_nodes)\n",
    "    for nd in elec_nodes:\n",
    "        bdy_els = bdy_els + np.any(bdy==nd, axis=1)#.reshape((bdy.shape[0], ))\n",
    "#     print(bdy_els)\n",
    "    ffb = np.where(bdy_els== bdy.shape[1])\n",
    "    used_nodes= bdy[ffb,:].reshape(-1)\n",
    "    unused = np.setdiff1d(elec_nodes, used_nodes)\n",
    "    return ffb, unused\n",
    "\n",
    "def tria_area(bdy_pts):\n",
    "    vectors = np.diff(bdy_pts, axis=0)\n",
    "    if vectors.shape[0]==2:\n",
    "        vectors = np.cross(vectors[0], vectors[1])  # 1d array\n",
    "        \n",
    "    d = bdy_pts.shape[0]\n",
    "    area = np.sqrt(np.sum(vectors**2)/(d-1))\n",
    "    return area"
   ]
  },
  {
   "cell_type": "code",
   "execution_count": 395,
   "metadata": {},
   "outputs": [],
   "source": [
    "# DONE\n",
    "def fwd_model_parameters(fwd_model):\n",
    "    param = collections.defaultdict()\n",
    "    param['NODE'] = fwd_model['nodes']\n",
    "    param['ELEM'] = fwd_model['elems'] \n",
    "    param['boundary'] = fwd_model['boundary'] \n",
    "    param['n_node'] = param['NODE'].shape[0]\n",
    "    param['n_dims'] =  param['NODE'].shape[1]\n",
    "    param['n_elec'] = len(fwd_model['electrode'])\n",
    "    param['n_elem'] = param['ELEM'].shape[0]\n",
    "    param['n_stim'] = fwd_model['stimulation'].shape[0]\n",
    "#     param.NODE = fwd_model['nodes'] \n",
    "#     param.NODE = fwd_model['nodes'] \n",
    "\n",
    "    return param\n",
    "\n",
    "def compl_elec_mdl(fwd_model, pp):\n",
    "    d0 = pp['n_dims']\n",
    "    FFdata = np.zeros((0, d0))\n",
    "    FFd_block = sqrtm((np.ones(d0) + np.eye(d0))/6/(d0-1))\n",
    "    FFiidx = np.zeros((0, d0))\n",
    "    FFjidx = np.zeros((0, d0))\n",
    "    FFi_block = np.tile(np.arange(d0), [d0,1])\n",
    "    CCdata = np.zeros((0, d0))\n",
    "    CCiidx = np.zeros((0, d0))\n",
    "    CCjidx = np.zeros((0, d0))\n",
    "    \n",
    "    sidx=d0*pp['n_elem']\n",
    "    cidx= (d0+1)*pp['n_elem']\n",
    "    i_cem=0\n",
    "    \n",
    "    for i in range(pp['n_elec']):\n",
    "        eleci=fwd_model['electrode'][i]\n",
    "        zc = eleci.z_contact\n",
    "#         print(eleci.nodes)\n",
    "#         print (zc)\n",
    "        bdy_idx, bdy_area = find_electrode_bdy(pp['boundary'], pp['NODE'], eleci.nodes)\n",
    "#         print (bdy_area)\n",
    "#         print(bdy_idx)\n",
    "        if not bdy_idx:\n",
    "            continue\n",
    "        i_cem +=1\n",
    "        \n",
    "#         print(bdy_idx[0].shape)\n",
    "        for j in range(bdy_idx[0].shape[0]):\n",
    "            bdy_nds = pp['boundary'][bdy_idx[0][j], :]\n",
    "#             print(bdy_area)\n",
    "#             print(' ')\n",
    "#             print('')\n",
    "            FFdata = np.vstack((FFdata, FFd_block*np.sqrt(bdy_area[0][j]/zc)))\n",
    "            FFiidx = np.vstack((FFiidx, FFi_block.T+sidx))\n",
    "            FFjidx = np.vstack((FFjidx, FFi_block+cidx))\n",
    "#             print((FFi_block[0:2, :]+cidx).shape)\n",
    "#             print(((pp['n_node']+i_cem)*np.ones((1, d0))).shape)\n",
    "            CCiidx = np.vstack((CCiidx, FFi_block[0:2, :]+cidx))\n",
    "            CCjidx = np.vstack((CCjidx, bdy_nds, (pp['n_node']+i_cem)*np.ones((1, d0))))\n",
    "            CCdata = np.vstack((CCdata,np.array([1,-1]).reshape(2,1)*np.ones((1, d0))))\n",
    "            sidx = sidx + d0\n",
    "            cidx = cidx + d0\n",
    "            \n",
    "    return FFdata,FFiidx,FFjidx, CCdata,CCiidx,CCjidx\n",
    "    "
   ]
  },
  {
   "cell_type": "code",
   "execution_count": 432,
   "metadata": {},
   "outputs": [],
   "source": [
    "# Partially Done! need to check numercial precise!!!\n",
    "def system_mat_fields(fwd_model):\n",
    "    p = fwd_model_parameters(fwd_model)\n",
    "    d0 = p['n_dims'] + 0\n",
    "    d1 = p['n_dims'] + 1\n",
    "    e = p['n_elem']\n",
    "    n = p['n_node']\n",
    "    FF_shape = [d0*e, d1*e]\n",
    "    CC_shape = [d1*e, n]\n",
    "    \n",
    "    FFjidx = np.floor(np.arange(d0*e).T.reshape([d0*e, 1])/d0)*d1*np.ones((1, d1)) + np.ones((d0*e, 1)).reshape([d0*e, 1])*np.arange(1, d1+1)\n",
    "    FFiidx = np.arange(1, d0*e+1).T.reshape([d0*e, 1])*np.ones((1, d1))\n",
    "    FFdata= np.zeros([d0*e,d1]);\n",
    "    dfact = (d0-1)*d0\n",
    "    \n",
    "    for j in range(1, e+1):\n",
    "        a = inv(np.hstack((np.ones((d1, 1)), (p['NODE'][p['ELEM'][j-1]-1]))))\n",
    "        idx =  np.arange(d0*(j-1)+1, d0*j+1)\n",
    "#         print(FFdata[np.array(idx-1), 0:d1])\n",
    "        FFdata[np.array(idx-1), 0:d1]=a[np.arange(1, d1),:]/np.sqrt(dfact*np.abs(det(a)))\n",
    "    \n",
    "    CCdata = np.ones((d1*e, 1))\n",
    "    \n",
    "    [F2data,F2iidx,F2jidx, C2data,C2iidx,C2jidx] = compl_elec_mdl(fwd_model,p)\n",
    "    \n",
    "#     print(C2iidx.shape)\n",
    "    # SparseTensor(indices=[[0, 0], [1, 2]], values=[1, 2], dense_shape=[3, 4])\n",
    "    FF1_idx = np.vstack((FFiidx.flatten('F'), FFjidx.flatten('F'))).astype('int')-1\n",
    "    CC1_idx = np.vstack((np.arange(1,d1*e+1), p['ELEM'].flatten())).astype('int') -1\n",
    "    \n",
    "    print(C2iidx.shape)\n",
    "    F2_idx = np.vstack((F2iidx.flatten('F'), F2jidx.flatten('F'))).astype('int')-1\n",
    "    C2_idx = np.vstack((C2iidx.flatten('F'), C2jidx.flatten('F'))).astype('int')-1\n",
    "    \n",
    "    \n",
    "    FF1 = tf.SparseTensor(FF1_idx.T, FFdata.flatten('F'), dense_shape=FF_shape)\n",
    "    CC1 = tf.SparseTensor(CC1_idx.T, CCdata.flatten('F'), dense_shape=CC_shape)\n",
    "    print(C2data.shape)\n",
    "    FF2 = tf.SparseTensor(F2_idx.T, F2data.flatten('F'), dense_shape=FF_shape)\n",
    "    CC2 = tf.SparseTensor(C2_idx.T, C2data.flatten('F'), dense_shape=CC_shape)\n",
    "    \n",
    "    return FF1, FF2, CC1, CC2"
   ]
  },
  {
   "cell_type": "code",
   "execution_count": 434,
   "metadata": {},
   "outputs": [
    {
     "name": "stdout",
     "output_type": "stream",
     "text": [
      "(46, 2)\n",
      "(46, 2)\n"
     ]
    },
    {
     "data": {
      "text/plain": [
       "(<tensorflow.python.framework.sparse_tensor.SparseTensor at 0x7f858403bba8>,\n",
       " <tensorflow.python.framework.sparse_tensor.SparseTensor at 0x7f8566f852e8>,\n",
       " <tensorflow.python.framework.sparse_tensor.SparseTensor at 0x7f8584046e48>,\n",
       " <tensorflow.python.framework.sparse_tensor.SparseTensor at 0x7f8566f857b8>)"
      ]
     },
     "execution_count": 434,
     "metadata": {},
     "output_type": "execute_result"
    }
   ],
   "source": [
    "p = fwd_model_parameters(fwd_model)\n",
    "d0 = p['n_dims'] + 0\n",
    "d1 = p['n_dims'] + 1\n",
    "e = p['n_elem']\n",
    "(p['NODE'][p['ELEM'][100]])\n",
    "system_mat_fields(fwd_model)\n",
    "# np.ones((d1*e, 1))\n",
    "# p['boundary']\n",
    "# FFiidx = np.arange(1, d0*e+1).T.reshape([d0*e, 1])*np.ones((1, d1))\n",
    "# FFjidx = np.floor(np.arange(d0*e).T.reshape([d0*e, 1])/d0)*d1*np.ones((1, d1)) + np.ones((d0*e, 1)).reshape([d0*e, 1])*np.arange(1, d1+1)\n",
    "# FFjidx\n",
    "# np.ones((d0*e, 1))*np.arange(1, d1+1)\n",
    "# FFdata= np.zeros((d0*e,d1))\n",
    "# FFdata\n",
    "\n",
    "# FF1_idx = np.vstack((FFiidx.flatten('F'), FFjidx.flatten('F'))).astype('int')-1\n",
    "# CC1_idx = np.vstack((np.arange(1,d1*e+1), p['ELEM'].flatten('F'))).astype('int') -1\n",
    "# CC1_idx\n",
    "# p['ELEM']"
   ]
  },
  {
   "cell_type": "code",
   "execution_count": 228,
   "metadata": {},
   "outputs": [],
   "source": [
    "pp = fwd_model_parameters(fwd_model)\n",
    "FFdata,FFiidx,FFjidx, CCdata,CCiidx,CCjidx = compl_elec_mdl(fwd_model, pp)"
   ]
  },
  {
   "cell_type": "code",
   "execution_count": null,
   "metadata": {},
   "outputs": [],
   "source": []
  },
  {
   "cell_type": "code",
   "execution_count": 142,
   "metadata": {},
   "outputs": [
    {
     "data": {
      "text/plain": [
       "array([[0, 0, 0, 0, 0],\n",
       "       [0, 0, 2, 0, 0],\n",
       "       [0, 0, 0, 3, 0],\n",
       "       [0, 0, 0, 0, 0]], dtype=int32)"
      ]
     },
     "execution_count": 142,
     "metadata": {},
     "output_type": "execute_result"
    }
   ],
   "source": [
    "sparse = tf.SparseTensor(values =[2,3], indices=[[1,2],[2,3]], dense_shape=[4,5])\n",
    "\n",
    "# sv = tf.Variable(sparse)\n",
    "init = tf.initialize_all_tables()\n",
    "sess = tf.Session()\n",
    "sess.run(init)\n",
    "sess.run( tf.sparse_tensor_to_dense(sparse))"
   ]
  },
  {
   "cell_type": "code",
   "execution_count": null,
   "metadata": {},
   "outputs": [],
   "source": []
  },
  {
   "cell_type": "code",
   "execution_count": null,
   "metadata": {},
   "outputs": [],
   "source": []
  },
  {
   "cell_type": "code",
   "execution_count": null,
   "metadata": {
    "collapsed": true
   },
   "outputs": [],
   "source": []
  },
  {
   "cell_type": "code",
   "execution_count": null,
   "metadata": {
    "collapsed": true
   },
   "outputs": [],
   "source": []
  }
 ],
 "metadata": {
  "kernelspec": {
   "display_name": "Python 3",
   "language": "python",
   "name": "python3"
  },
  "language_info": {
   "codemirror_mode": {
    "name": "ipython",
    "version": 3
   },
   "file_extension": ".py",
   "mimetype": "text/x-python",
   "name": "python",
   "nbconvert_exporter": "python",
   "pygments_lexer": "ipython3",
   "version": "3.6.2"
  }
 },
 "nbformat": 4,
 "nbformat_minor": 2
}
